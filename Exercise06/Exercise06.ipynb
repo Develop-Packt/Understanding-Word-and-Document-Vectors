{
 "cells": [
  {
   "cell_type": "code",
   "execution_count": 1,
   "metadata": {},
   "outputs": [],
   "source": [
    "import pandas as pd\n",
    "from gensim import utils\n",
    "from gensim.models.doc2vec import TaggedDocument\n",
    "from gensim.models import Doc2Vec\n",
    "from gensim.parsing.preprocessing import preprocess_string, remove_stopwords\n",
    "import random\n",
    "import warnings\n",
    "warnings.filterwarnings(\"ignore\")\n"
   ]
  },
  {
   "cell_type": "code",
   "execution_count": 2,
   "metadata": {},
   "outputs": [],
   "source": [
    "sample_news_data = '../data/sample_news_data.txt'"
   ]
  },
  {
   "cell_type": "code",
   "execution_count": 3,
   "metadata": {},
   "outputs": [],
   "source": [
    "with open(sample_news_data, encoding=\"utf8\", errors='ignore') as f:\n",
    "    news_lines = [line for line in f.readlines()]"
   ]
  },
  {
   "cell_type": "code",
   "execution_count": 4,
   "metadata": {},
   "outputs": [],
   "source": [
    "lines_df = pd.DataFrame()"
   ]
  },
  {
   "cell_type": "code",
   "execution_count": 5,
   "metadata": {},
   "outputs": [],
   "source": [
    "indices  = list(range(len(news_lines)))"
   ]
  },
  {
   "cell_type": "code",
   "execution_count": 6,
   "metadata": {},
   "outputs": [],
   "source": [
    "lines_df['news'] = news_lines\n",
    "lines_df['index'] = indices"
   ]
  },
  {
   "cell_type": "code",
   "execution_count": 7,
   "metadata": {},
   "outputs": [
    {
     "data": {
      "text/html": [
       "<div>\n",
       "<style scoped>\n",
       "    .dataframe tbody tr th:only-of-type {\n",
       "        vertical-align: middle;\n",
       "    }\n",
       "\n",
       "    .dataframe tbody tr th {\n",
       "        vertical-align: top;\n",
       "    }\n",
       "\n",
       "    .dataframe thead th {\n",
       "        text-align: right;\n",
       "    }\n",
       "</style>\n",
       "<table border=\"1\" class=\"dataframe\">\n",
       "  <thead>\n",
       "    <tr style=\"text-align: right;\">\n",
       "      <th></th>\n",
       "      <th>news</th>\n",
       "      <th>index</th>\n",
       "    </tr>\n",
       "  </thead>\n",
       "  <tbody>\n",
       "    <tr>\n",
       "      <th>0</th>\n",
       "      <td>Top of the Pops leaves BBC One The BBC flagshi...</td>\n",
       "      <td>0</td>\n",
       "    </tr>\n",
       "    <tr>\n",
       "      <th>1</th>\n",
       "      <td>Oscars race enters final furlong The race for ...</td>\n",
       "      <td>1</td>\n",
       "    </tr>\n",
       "    <tr>\n",
       "      <th>2</th>\n",
       "      <td>US TV special for tsunami relief A US televisi...</td>\n",
       "      <td>2</td>\n",
       "    </tr>\n",
       "    <tr>\n",
       "      <th>3</th>\n",
       "      <td>Williamson lauds bowlers for adapting to atypi...</td>\n",
       "      <td>3</td>\n",
       "    </tr>\n",
       "    <tr>\n",
       "      <th>4</th>\n",
       "      <td>Housewives lift Channel ratings The debut of U...</td>\n",
       "      <td>4</td>\n",
       "    </tr>\n",
       "  </tbody>\n",
       "</table>\n",
       "</div>"
      ],
      "text/plain": [
       "                                                news  index\n",
       "0  Top of the Pops leaves BBC One The BBC flagshi...      0\n",
       "1  Oscars race enters final furlong The race for ...      1\n",
       "2  US TV special for tsunami relief A US televisi...      2\n",
       "3  Williamson lauds bowlers for adapting to atypi...      3\n",
       "4  Housewives lift Channel ratings The debut of U...      4"
      ]
     },
     "execution_count": 7,
     "metadata": {},
     "output_type": "execute_result"
    }
   ],
   "source": [
    "lines_df.head()"
   ]
  },
  {
   "cell_type": "code",
   "execution_count": 11,
   "metadata": {},
   "outputs": [],
   "source": [
    "class DocumentDataset(object):\n",
    "    \n",
    "    def __init__(self, data:pd.DataFrame, column):\n",
    "        document = data[column].apply(self.preprocess)\n",
    "        \n",
    "        self.documents = [ TaggedDocument( text, [index]) \n",
    "                          for index, text in document.iteritems() ]\n",
    "      \n",
    "    def preprocess(self, document):\n",
    "        return preprocess_string(remove_stopwords(document))\n",
    "        \n",
    "    def __iter__(self):\n",
    "        for document in self.documents:\n",
    "            yield documents\n",
    "            \n",
    "    def tagged_documents(self, shuffle=False):\n",
    "        if shuffle:\n",
    "            random.shuffle(self.documents)\n",
    "        return self.documents\n"
   ]
  },
  {
   "cell_type": "code",
   "execution_count": 12,
   "metadata": {},
   "outputs": [],
   "source": [
    "documents_dataset = DocumentDataset(lines_df, 'news')"
   ]
  },
  {
   "cell_type": "code",
   "execution_count": 13,
   "metadata": {},
   "outputs": [],
   "source": [
    "docVecModel = Doc2Vec(min_count=1, window=5, vector_size=100, sample=1e-4, negative=5, workers=8)\n",
    "docVecModel.build_vocab(documents_dataset.tagged_documents())"
   ]
  },
  {
   "cell_type": "code",
   "execution_count": 14,
   "metadata": {},
   "outputs": [],
   "source": [
    "docVecModel.train(documents_dataset.tagged_documents(shuffle=True),\n",
    "            total_examples = docVecModel.corpus_count,\n",
    "           epochs=10)\n"
   ]
  },
  {
   "cell_type": "code",
   "execution_count": 15,
   "metadata": {},
   "outputs": [],
   "source": [
    "docVecModel.save('../data/docVecModel.d2v')"
   ]
  },
  {
   "cell_type": "code",
   "execution_count": 16,
   "metadata": {},
   "outputs": [
    {
     "data": {
      "text/plain": [
       "array([ 0.13805848,  0.02054609,  0.00620157, -0.23535208,  0.0385992 ,\n",
       "       -0.05864267, -0.08052436,  0.05700855,  0.15521137,  0.00316227,\n",
       "        0.03995956, -0.04921804,  0.21074389, -0.03008245,  0.04858598,\n",
       "        0.08631032,  0.00885195, -0.2491873 , -0.08436063,  0.08865232,\n",
       "       -0.02097839,  0.11763334,  0.02459638,  0.09546448,  0.1254558 ,\n",
       "       -0.00875491,  0.1183552 ,  0.04289681, -0.1888077 ,  0.2858808 ,\n",
       "       -0.10873522, -0.11912633, -0.04620624, -0.05692951, -0.05922568,\n",
       "       -0.10007121, -0.23446682, -0.01172142,  0.19553211, -0.13520506,\n",
       "        0.03978759, -0.12167215, -0.09803631,  0.07693443,  0.07802647,\n",
       "        0.14447123,  0.13701321, -0.00337017, -0.24202083,  0.04348565,\n",
       "        0.28693718, -0.2654759 , -0.10201034, -0.06126965, -0.04116185,\n",
       "        0.01619914, -0.29627806,  0.0473277 , -0.03481805, -0.1011382 ,\n",
       "        0.01250187,  0.12302344, -0.08900694,  0.06876019,  0.04318458,\n",
       "        0.1254471 ,  0.09432905,  0.20466867,  0.08546089, -0.22970916,\n",
       "        0.1878061 ,  0.0454439 , -0.00285756,  0.0303278 , -0.05701253,\n",
       "       -0.06595398, -0.02310871, -0.10107064, -0.06193043, -0.27397332,\n",
       "        0.24560557, -0.01064263,  0.17614566, -0.09662327, -0.26010987,\n",
       "        0.00283306,  0.18706967, -0.20111755,  0.05613018, -0.1248979 ,\n",
       "        0.09276187,  0.00426316, -0.09990648, -0.05967088,  0.2248443 ,\n",
       "        0.0851498 ,  0.008644  , -0.01077251,  0.21337079,  0.32794487],\n",
       "      dtype=float32)"
      ]
     },
     "execution_count": 16,
     "metadata": {},
     "output_type": "execute_result"
    }
   ],
   "source": [
    "docVecModel[657]"
   ]
  },
  {
   "cell_type": "code",
   "execution_count": 18,
   "metadata": {},
   "outputs": [],
   "source": [
    "import matplotlib.pyplot as plt\n",
    " \n",
    "def show_image(vector, line):\n",
    "    fig, ax = plt.subplots(1,1, figsize=(10, 2))\n",
    "    ax.tick_params(axis='both', \n",
    "                   which='both',\n",
    "                   left=False, \n",
    "                   bottom=False,\n",
    "                   top=False,\n",
    "                   labelleft=False,\n",
    "                   labelbottom=False)\n",
    "    ax.grid(False)\n",
    "    print(line)\n",
    "    ax.bar(range(len(vector)), vector, 0.5)\n",
    "   \n",
    "  \n",
    "def show_news_line(line_number):\n",
    "    line = lines_df[lines_df.index==line_number].news\n",
    "    doc_vector = docVecModel[line_number]\n",
    "    show_image(doc_vector, line)\n"
   ]
  },
  {
   "cell_type": "code",
   "execution_count": 19,
   "metadata": {},
   "outputs": [
    {
     "name": "stdout",
     "output_type": "stream",
     "text": [
      "872    US budget deficit to reach The US budget defic...\n",
      "Name: news, dtype: object\n"
     ]
    },
    {
     "data": {
      "image/png": "[encoded data removed]",
      "text/plain": [
       "<Figure size 720x144 with 1 Axes>"
      ]
     },
     "metadata": {},
     "output_type": "display_data"
    }
   ],
   "source": [
    "show_news_line(872)"
   ]
  }
 ],
 "metadata": {
  "kernelspec": {
   "display_name": "Python 3",
   "language": "python",
   "name": "python3"
  },
  "language_info": {
   "codemirror_mode": {
    "name": "ipython",
    "version": 3
   },
   "file_extension": ".py",
   "mimetype": "text/x-python",
   "name": "python",
   "nbconvert_exporter": "python",
   "pygments_lexer": "ipython3",
   "version": "3.5.2"
  }
 },
 "nbformat": 4,
 "nbformat_minor": 2
}
